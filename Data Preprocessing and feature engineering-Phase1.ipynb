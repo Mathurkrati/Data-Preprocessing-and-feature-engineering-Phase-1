{
 "cells": [
  {
   "cell_type": "code",
   "execution_count": 1,
   "id": "cedf021f-a775-4ab2-8c36-5c3f10125930",
   "metadata": {},
   "outputs": [
    {
     "name": "stdout",
     "output_type": "stream",
     "text": [
      "   PassengerId  Survived  Pclass  Sex   Age  SibSp  Parch     Fare  \\\n",
      "0            1         0       3    0  22.0      1      0   7.2500   \n",
      "1            2         1       1    1  38.0      1      0  71.2833   \n",
      "2            3         1       3    1  26.0      0      0   7.9250   \n",
      "3            4         1       1    1  35.0      1      0  53.1000   \n",
      "4            5         0       3    0  35.0      0      0   8.0500   \n",
      "\n",
      "   Embarked_Q  Embarked_S  FamilySize  \n",
      "0       False        True           1  \n",
      "1       False       False           1  \n",
      "2       False        True           0  \n",
      "3       False        True           1  \n",
      "4       False        True           0  \n"
     ]
    }
   ],
   "source": [
    "import pandas as pd\n",
    "\n",
    "# Load the dataset\n",
    "\n",
    "titanic_data = pd.read_csv('titanic.csv')\n",
    "\n",
    "# Handling Missing Values\n",
    "# Impute missing 'Age' with the median value\n",
    "titanic_data['Age'].fillna(titanic_data['Age'].median(), inplace=True)\n",
    "\n",
    "# Drop the 'Cabin' column due to a large number of missing values\n",
    "titanic_data.drop(columns=['Cabin'], inplace=True)\n",
    "\n",
    "# Impute missing 'Embarked' with the most frequent value\n",
    "titanic_data['Embarked'].fillna(titanic_data['Embarked'].mode()[0], inplace=True)\n",
    "\n",
    "# Encoding Categorical Variables\n",
    "# Convert 'Sex' to numerical values\n",
    "titanic_data['Sex'] = titanic_data['Sex'].map({'male': 0, 'female': 1})\n",
    "\n",
    "# One-hot encode 'Embarked'\n",
    "titanic_data = pd.get_dummies(titanic_data, columns=['Embarked'], drop_first=True)\n",
    "\n",
    "# Feature Creation\n",
    "# Create 'FamilySize' feature\n",
    "titanic_data['FamilySize'] = titanic_data['SibSp'] + titanic_data['Parch']\n",
    "\n",
    "# Dropping Irrelevant Features\n",
    "# Drop 'Name' and 'Ticket' columns\n",
    "titanic_data.drop(columns=['Name', 'Ticket'], inplace=True)\n",
    "\n",
    "# Display the first few rows of the modified dataframe\n",
    "print(titanic_data.head())\n"
   ]
  }
 ],
 "metadata": {
  "kernelspec": {
   "display_name": "Python 3 (ipykernel)",
   "language": "python",
   "name": "python3"
  },
  "language_info": {
   "codemirror_mode": {
    "name": "ipython",
    "version": 3
   },
   "file_extension": ".py",
   "mimetype": "text/x-python",
   "name": "python",
   "nbconvert_exporter": "python",
   "pygments_lexer": "ipython3",
   "version": "3.9.13"
  }
 },
 "nbformat": 4,
 "nbformat_minor": 5
}
